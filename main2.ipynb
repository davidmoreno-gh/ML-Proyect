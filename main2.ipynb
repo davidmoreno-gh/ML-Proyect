{
 "cells": [
  {
   "cell_type": "code",
   "execution_count": null,
   "metadata": {},
   "outputs": [],
   "source": [
    "# analysis.ipynb\n",
    "\n",
    "# Importar las funciones del archivo functions.py\n",
    "from functions import *\n",
    "\n",
    "# 1. Importar datos\n",
    "filepath = \"C:/Users/Carlos/Downloads/dia.csv\"\n",
    "df = load_data(filepath)"
   ]
  },
  {
   "cell_type": "code",
   "execution_count": null,
   "metadata": {},
   "outputs": [],
   "source": [
    "# 2. Limpieza de datos\n",
    "df = remove_duplicates(df)\n",
    "count_distinct_values(df)\n",
    "count_null_values(df)\n",
    "df = remove_unnecessary_values(df)"
   ]
  },
  {
   "cell_type": "code",
   "execution_count": null,
   "metadata": {},
   "outputs": [],
   "source": [
    "# 3. Análisis univariado\n",
    "plot_histogram(df, 'age')\n",
    "plot_countplot(df, 'gender')\n",
    "plot_distplot(df, 'bmi')\n",
    "\n",
    "for col in ['hypertension', 'heart_disease', 'diabetes']:\n",
    "    plot_countplot(df, col)\n",
    "\n",
    "plot_countplot(df, 'smoking_history')"
   ]
  },
  {
   "cell_type": "code",
   "execution_count": null,
   "metadata": {},
   "outputs": [],
   "source": [
    "# 4. Análisis bivariado\n",
    "plot_boxplot(df, 'diabetes', 'bmi')\n",
    "plot_boxplot(df, 'diabetes', 'age')\n",
    "plot_countplot(df, 'gender')\n",
    "plot_boxplot(df, 'diabetes', 'HbA1c_level')\n",
    "plot_boxplot(df, 'diabetes', 'blood_glucose_level')\n",
    "plot_pairplot(df, 'diabetes')\n",
    "plot_scatterplot(df, 'age', 'bmi', 'diabetes')\n",
    "plot_violinplot(df, 'diabetes', 'bmi', 'gender')\n",
    "plot_boxplot(df, 'diabetes', 'bmi')\n",
    "plot_boxplot(df, 'diabetes', 'age')"
   ]
  },
  {
   "cell_type": "code",
   "execution_count": null,
   "metadata": {},
   "outputs": [],
   "source": [
    "\n",
    "# 5. Correlaciones\n",
    "df['smoking_history'] = df['smoking_history'].apply(recategorize_smoking)\n",
    "data = df.copy()\n",
    "data = perform_one_hot_encoding(data, 'gender')\n",
    "data = perform_one_hot_encoding(data, 'smoking_history')\n",
    "correlation_matrix = data.corr()\n",
    "plot_heatmap(correlation_matrix, \"Correlation Matrix Heatmap\")\n",
    "\n"
   ]
  },
  {
   "cell_type": "code",
   "execution_count": null,
   "metadata": {},
   "outputs": [],
   "source": [
    "# 6. Modelos de Machine Learning\n",
    "# KNN\n",
    "X = data.drop('diabetes', axis=1)\n",
    "y = data['diabetes']\n",
    "X_train, X_test, y_train, y_test = train_test_split(X, y, test_size=0.2, random_state=42)\n",
    "scaler = StandardScaler()\n",
    "X_train = scaler.fit_transform(X_train)\n",
    "X_test = scaler.transform(X_test)\n",
    "knn = train_knn(X_train, y_train)\n",
    "evaluate_model(knn, X_test, y_test)\n",
    "\n",
    "# Cross-Validation for KNN\n",
    "perform_cross_validation(KNeighborsClassifier(n_neighbors=3), X, y)\n",
    "\n",
    "# Grid Search for KNN\n",
    "param_grid_knn = {'n_neighbors': [3, 5, 7, 9]}\n",
    "grid_search_knn = perform_grid_search(KNeighborsClassifier(), param_grid_knn, X_train, y_train)\n",
    "evaluate_model(grid_search_knn, X_test, y_test)\n",
    "\n",
    "# Logistic Regression\n",
    "X = df[[\"age\", \"hypertension\", \"heart_disease\", \"bmi\", \"HbA1c_level\", \"blood_glucose_level\"]]\n",
    "y = df['diabetes']\n",
    "X_train, X_test, y_train, y_test = train_test_split(X, y, test_size=0.2, random_state=42)\n",
    "log = train_logistic_regression(X_train, y_train)\n",
    "evaluate_model(log, X_test, y_test)\n",
    "\n",
    "# Cross-Validation for Logistic Regression\n",
    "perform_cross_validation(LogisticRegression(), X, y)\n",
    "\n",
    "# Grid Search for Logistic Regression\n",
    "param_grid_log = {'C': [0.1, 1, 10, 100]}\n",
    "grid_search_log = perform_grid_search(LogisticRegression(), param_grid_log, X_train, y_train)\n",
    "evaluate_model(grid_search_log, X_test, y_test)\n",
    "\n",
    "# Random Forest\n",
    "param_grid_rf = {\n",
    "    'classifier__n_estimators': [50, 100, 200],\n",
    "    'classifier__max_depth': [None, 10, 20],\n",
    "    'classifier__min_samples_split': [2, 5, 10],\n",
    "    'classifier__min_samples_leaf': [1, 2, 4]\n",
    "}\n",
    "grid_search_rf = train_random_forest(X_train, y_train, param_grid_rf)\n",
    "evaluate_model(grid_search_rf, X_test, y_test)\n",
    "\n",
    "# Cross-Validation for Random Forest\n",
    "perform_cross_validation(RandomForestClassifier(), X, y)\n",
    "\n",
    "# Importancia de características\n",
    "onehot_columns = list(grid_search_rf.best_estimator_.named_steps['preprocessor'].named_transformers_['cat'].get_feature_names_out(['gender', 'smoking_history']))\n",
    "feature_names = ['age', 'bmi', 'HbA1c_level', 'blood_glucose_level', 'hypertension', 'heart_disease'] + onehot_columns\n",
    "plot_feature_importances(grid_search_rf, feature_names)"
   ]
  },
  {
   "cell_type": "code",
   "execution_count": null,
   "metadata": {},
   "outputs": [],
   "source": []
  },
  {
   "cell_type": "code",
   "execution_count": null,
   "metadata": {},
   "outputs": [],
   "source": []
  },
  {
   "cell_type": "code",
   "execution_count": null,
   "metadata": {},
   "outputs": [],
   "source": []
  }
 ],
 "metadata": {
  "kernelspec": {
   "display_name": "Statistics_Lab",
   "language": "python",
   "name": "python3"
  },
  "language_info": {
   "name": "python",
   "version": "3.11.9"
  }
 },
 "nbformat": 4,
 "nbformat_minor": 2
}
